{
 "cells": [
  {
   "cell_type": "markdown",
   "id": "010c81db",
   "metadata": {},
   "source": [
    "### Connect Django to Jupyter Notebooks"
   ]
  },
  {
   "cell_type": "code",
   "execution_count": 1,
   "id": "7d64d6d6",
   "metadata": {},
   "outputs": [
    {
     "name": "stdout",
     "output_type": "stream",
     "text": [
      "Applied nest_asyncio patch for Jupyter compatibility\n",
      "Changed project directory to : /home/rahul/DjangoAIAgents/src\n"
     ]
    }
   ],
   "source": [
    "# Load the setup file and init django\n",
    "import setup\n",
    "\n",
    "setup.init(verbose=True)"
   ]
  },
  {
   "cell_type": "code",
   "execution_count": null,
   "id": "b76ca849",
   "metadata": {},
   "outputs": [
    {
     "data": {
      "text/plain": [
       "<QuerySet [<User: rahul>]>"
      ]
     },
     "execution_count": 2,
     "metadata": {},
     "output_type": "execute_result"
    }
   ],
   "source": [
    "# Import user model from Django Admin\n",
    "from django.contrib.auth import get_user_model\n",
    "\n",
    "User = get_user_model()\n",
    "\n",
    "User.objects.all()"
   ]
  },
  {
   "cell_type": "code",
   "execution_count": null,
   "id": "af347326",
   "metadata": {},
   "outputs": [
    {
     "data": {
      "text/plain": [
       "<User: rahul>"
      ]
     },
     "execution_count": 3,
     "metadata": {},
     "output_type": "execute_result"
    }
   ],
   "source": [
    "# Get first user\n",
    "user = User.objects.first()\n",
    "user"
   ]
  },
  {
   "cell_type": "code",
   "execution_count": null,
   "id": "5306ac43",
   "metadata": {},
   "outputs": [
    {
     "data": {
      "text/plain": [
       "<Document: Welcome>"
      ]
     },
     "execution_count": 4,
     "metadata": {},
     "output_type": "execute_result"
    }
   ],
   "source": [
    "# Import document model\n",
    "from documents.models import Document\n",
    "\n",
    "document = Document.objects.first()\n",
    "document"
   ]
  },
  {
   "cell_type": "code",
   "execution_count": null,
   "id": "1485e275",
   "metadata": {},
   "outputs": [
    {
     "data": {
      "text/plain": [
       "<Document: Hello World>"
      ]
     },
     "execution_count": 6,
     "metadata": {},
     "output_type": "execute_result"
    }
   ],
   "source": [
    "# Create new document\n",
    "document_obj = Document(\n",
    "    owner = user,\n",
    "    title = \"Hello World\",\n",
    "    content = \"This document are inserted from Jupyter Notebook\"\n",
    ")\n",
    "\n",
    "document_obj"
   ]
  },
  {
   "cell_type": "code",
   "execution_count": 7,
   "id": "758d1d6f",
   "metadata": {},
   "outputs": [],
   "source": [
    "# Save the document into database\n",
    "document_obj.save()"
   ]
  },
  {
   "cell_type": "code",
   "execution_count": 9,
   "id": "75162d7a",
   "metadata": {},
   "outputs": [
    {
     "data": {
      "text/plain": [
       "<QuerySet [<Document: Welcome>, <Document: Hello World>]>"
      ]
     },
     "execution_count": 9,
     "metadata": {},
     "output_type": "execute_result"
    }
   ],
   "source": [
    "Document.objects.all()"
   ]
  },
  {
   "cell_type": "code",
   "execution_count": 10,
   "id": "7389bbdc",
   "metadata": {},
   "outputs": [
    {
     "data": {
      "text/plain": [
       "<Document: Hello World>"
      ]
     },
     "execution_count": 10,
     "metadata": {},
     "output_type": "execute_result"
    }
   ],
   "source": [
    "Document.objects.last()"
   ]
  },
  {
   "cell_type": "code",
   "execution_count": null,
   "id": "4d7f29bb",
   "metadata": {},
   "outputs": [],
   "source": []
  }
 ],
 "metadata": {
  "kernelspec": {
   "display_name": "djangoaiagents",
   "language": "python",
   "name": "python3"
  },
  "language_info": {
   "codemirror_mode": {
    "name": "ipython",
    "version": 3
   },
   "file_extension": ".py",
   "mimetype": "text/x-python",
   "name": "python",
   "nbconvert_exporter": "python",
   "pygments_lexer": "ipython3",
   "version": "3.12.3"
  }
 },
 "nbformat": 4,
 "nbformat_minor": 5
}
