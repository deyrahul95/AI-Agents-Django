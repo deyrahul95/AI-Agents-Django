{
 "cells": [
  {
   "cell_type": "code",
   "execution_count": null,
   "id": "9bfcb9e1",
   "metadata": {},
   "outputs": [],
   "source": [
    "import setup\n",
    "\n",
    "setup.init()"
   ]
  },
  {
   "cell_type": "code",
   "execution_count": null,
   "id": "0e1bc19f",
   "metadata": {},
   "outputs": [],
   "source": [
    "from ai.llms import get_openai_model\n",
    "\n",
    "model = get_openai_model()"
   ]
  },
  {
   "cell_type": "code",
   "execution_count": null,
   "id": "0bb05399",
   "metadata": {},
   "outputs": [],
   "source": [
    "response = model.invoke(\"What is the Capital of France?\")\n",
    "response.content"
   ]
  }
 ],
 "metadata": {
  "kernelspec": {
   "display_name": "djangoaiagents",
   "language": "python",
   "name": "python3"
  },
  "language_info": {
   "codemirror_mode": {
    "name": "ipython",
    "version": 3
   },
   "file_extension": ".py",
   "mimetype": "text/x-python",
   "name": "python",
   "nbconvert_exporter": "python",
   "pygments_lexer": "ipython3",
   "version": "3.12.3"
  }
 },
 "nbformat": 4,
 "nbformat_minor": 5
}
