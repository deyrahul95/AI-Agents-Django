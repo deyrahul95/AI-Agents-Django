{
 "cells": [
  {
   "cell_type": "markdown",
   "id": "010c81db",
   "metadata": {},
   "source": [
    "### Connect Django to Jupyter Notebooks"
   ]
  },
  {
   "cell_type": "code",
   "execution_count": null,
   "id": "7d64d6d6",
   "metadata": {},
   "outputs": [],
   "source": [
    "# Load the setup file and init django\n",
    "import setup\n",
    "\n",
    "setup.init(verbose=True)"
   ]
  },
  {
   "cell_type": "code",
   "execution_count": null,
   "id": "b76ca849",
   "metadata": {},
   "outputs": [],
   "source": [
    "# Import user model from Django Admin\n",
    "from django.contrib.auth import get_user_model\n",
    "\n",
    "User = get_user_model()\n",
    "\n",
    "User.objects.all()"
   ]
  },
  {
   "cell_type": "code",
   "execution_count": null,
   "id": "af347326",
   "metadata": {},
   "outputs": [],
   "source": [
    "# Get first user\n",
    "user = User.objects.first()\n",
    "user"
   ]
  },
  {
   "cell_type": "code",
   "execution_count": null,
   "id": "5306ac43",
   "metadata": {},
   "outputs": [],
   "source": [
    "# Import document model\n",
    "from documents.models import Document\n",
    "\n",
    "document = Document.objects.first()\n",
    "document"
   ]
  },
  {
   "cell_type": "code",
   "execution_count": null,
   "id": "1485e275",
   "metadata": {},
   "outputs": [],
   "source": [
    "# Create new document\n",
    "document_obj = Document(\n",
    "    owner=user,\n",
    "    title=\"Hello World\",\n",
    "    content=\"This document are inserted from Jupyter Notebook\",\n",
    ")\n",
    "\n",
    "document_obj"
   ]
  },
  {
   "cell_type": "code",
   "execution_count": null,
   "id": "758d1d6f",
   "metadata": {},
   "outputs": [],
   "source": [
    "# Save the document into database\n",
    "document_obj.save()"
   ]
  },
  {
   "cell_type": "code",
   "execution_count": null,
   "id": "75162d7a",
   "metadata": {},
   "outputs": [],
   "source": [
    "Document.objects.all()"
   ]
  },
  {
   "cell_type": "code",
   "execution_count": null,
   "id": "7389bbdc",
   "metadata": {},
   "outputs": [],
   "source": [
    "Document.objects.last()"
   ]
  },
  {
   "cell_type": "code",
   "execution_count": null,
   "id": "4d7f29bb",
   "metadata": {},
   "outputs": [],
   "source": [
    "import os\n",
    "\n",
    "# Created new user for spiderman\n",
    "spiderman = User.objects.create(\n",
    "    username=os.getenv(\"USERNAME\"),\n",
    ")\n",
    "spiderman.is_active = True\n",
    "spiderman.is_staff = True\n",
    "spiderman.save()\n",
    "\n",
    "spiderman"
   ]
  },
  {
   "cell_type": "code",
   "execution_count": null,
   "id": "e2541c0e",
   "metadata": {},
   "outputs": [],
   "source": [
    "# Set password\n",
    "spiderman.set_password(os.getenv(\"PASSWORD\"))\n",
    "spiderman.save()\n",
    "spiderman.password"
   ]
  },
  {
   "cell_type": "code",
   "execution_count": null,
   "id": "cbc64d5d",
   "metadata": {},
   "outputs": [],
   "source": [
    "User.objects.all()"
   ]
  },
  {
   "cell_type": "code",
   "execution_count": null,
   "id": "b6056b66",
   "metadata": {},
   "outputs": [],
   "source": []
  }
 ],
 "metadata": {
  "kernelspec": {
   "display_name": "djangoaiagents",
   "language": "python",
   "name": "python3"
  },
  "language_info": {
   "codemirror_mode": {
    "name": "ipython",
    "version": 3
   },
   "file_extension": ".py",
   "mimetype": "text/x-python",
   "name": "python",
   "nbconvert_exporter": "python",
   "pygments_lexer": "ipython3",
   "version": "3.12.3"
  }
 },
 "nbformat": 4,
 "nbformat_minor": 5
}
