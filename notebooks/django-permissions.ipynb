{
 "cells": [
  {
   "cell_type": "code",
   "execution_count": null,
   "id": "57af7b14",
   "metadata": {},
   "outputs": [],
   "source": [
    "import setup\n",
    "\n",
    "setup.init()"
   ]
  },
  {
   "cell_type": "code",
   "execution_count": null,
   "id": "1a46443a",
   "metadata": {},
   "outputs": [],
   "source": [
    "from django.contrib.auth import get_user_model\n",
    "\n",
    "User = get_user_model()\n",
    "\n",
    "# Get all users\n",
    "User.objects.all()"
   ]
  },
  {
   "cell_type": "code",
   "execution_count": null,
   "id": "e84051c0",
   "metadata": {},
   "outputs": [],
   "source": [
    "super_user = User.objects.filter(is_superuser=True).first()\n",
    "super_user"
   ]
  },
  {
   "cell_type": "code",
   "execution_count": null,
   "id": "a9b91282",
   "metadata": {},
   "outputs": [],
   "source": [
    "# Get user permissions\n",
    "super_user.user_permissions.all()  # type: ignore"
   ]
  },
  {
   "cell_type": "code",
   "execution_count": null,
   "id": "4aca1090",
   "metadata": {},
   "outputs": [],
   "source": [
    "staff_user = User.objects.filter(is_superuser=False, is_staff=True).first()\n",
    "staff_user"
   ]
  },
  {
   "cell_type": "code",
   "execution_count": null,
   "id": "821f4d71",
   "metadata": {},
   "outputs": [],
   "source": [
    "staff_user.user_permissions.all()  # type: ignore"
   ]
  },
  {
   "cell_type": "code",
   "execution_count": null,
   "id": "3de36275",
   "metadata": {},
   "outputs": [],
   "source": [
    "from django.contrib.auth.models import Permission\n",
    "\n",
    "permissions = Permission.objects.all()\n",
    "permissions"
   ]
  },
  {
   "cell_type": "code",
   "execution_count": null,
   "id": "0ae94451",
   "metadata": {},
   "outputs": [],
   "source": [
    "# Get all view permissions\n",
    "view_perms = Permission.objects.filter(codename__icontains=\"VIEW\")\n",
    "for obj in view_perms:\n",
    "    print(obj.codename)"
   ]
  },
  {
   "cell_type": "code",
   "execution_count": null,
   "id": "0475ee2b",
   "metadata": {},
   "outputs": [],
   "source": [
    "# Get all documents permissions\n",
    "docs_perms = Permission.objects.filter(codename__endswith=\"document\")\n",
    "for obj in docs_perms:\n",
    "    print(obj.codename)"
   ]
  },
  {
   "cell_type": "code",
   "execution_count": null,
   "id": "ef200a52",
   "metadata": {},
   "outputs": [],
   "source": [
    "# Let's combine this two permissions and excludes all deletes permission for our new staff user\n",
    "new_user_perms = view_perms | docs_perms\n",
    "new_user_perms = new_user_perms.exclude(codename__icontains=\"DELETE\")\n",
    "for obj in new_user_perms:\n",
    "    print(obj.codename)"
   ]
  },
  {
   "cell_type": "code",
   "execution_count": null,
   "id": "f892bb2b",
   "metadata": {},
   "outputs": [],
   "source": [
    "# Set user permissions\n",
    "staff_user.user_permissions.set(new_user_perms)  # type: ignore"
   ]
  },
  {
   "cell_type": "code",
   "execution_count": null,
   "id": "aad7be1b",
   "metadata": {},
   "outputs": [],
   "source": [
    "staff_user.user_permissions.all()  # type: ignore"
   ]
  }
 ],
 "metadata": {
  "kernelspec": {
   "display_name": "djangoaiagents",
   "language": "python",
   "name": "python3"
  },
  "language_info": {
   "codemirror_mode": {
    "name": "ipython",
    "version": 3
   },
   "file_extension": ".py",
   "mimetype": "text/x-python",
   "name": "python",
   "nbconvert_exporter": "python",
   "pygments_lexer": "ipython3",
   "version": "3.12.3"
  }
 },
 "nbformat": 4,
 "nbformat_minor": 5
}
