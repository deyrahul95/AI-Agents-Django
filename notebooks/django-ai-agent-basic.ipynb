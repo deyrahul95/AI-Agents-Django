{
 "cells": [
  {
   "cell_type": "code",
   "execution_count": null,
   "id": "898e8c47",
   "metadata": {},
   "outputs": [],
   "source": [
    "import setup\n",
    "\n",
    "setup.init()"
   ]
  },
  {
   "cell_type": "code",
   "execution_count": null,
   "id": "33f19b46",
   "metadata": {},
   "outputs": [],
   "source": [
    "config = {\"user_id\": 1}"
   ]
  },
  {
   "cell_type": "code",
   "execution_count": null,
   "id": "7280a3e1",
   "metadata": {},
   "outputs": [],
   "source": [
    "from ai.tools import get_document, list_documents\n",
    "\n",
    "list_documents.invoke(input={}, config=config)  # type: ignore"
   ]
  },
  {
   "cell_type": "code",
   "execution_count": null,
   "id": "6a11f960",
   "metadata": {},
   "outputs": [],
   "source": [
    "get_document.invoke(input={\"document_id\": 2}, config=config)  # type: ignore"
   ]
  },
  {
   "cell_type": "code",
   "execution_count": null,
   "id": "75b02825",
   "metadata": {},
   "outputs": [],
   "source": []
  }
 ],
 "metadata": {
  "kernelspec": {
   "display_name": "djangoaiagents",
   "language": "python",
   "name": "python3"
  },
  "language_info": {
   "codemirror_mode": {
    "name": "ipython",
    "version": 3
   },
   "file_extension": ".py",
   "mimetype": "text/x-python",
   "name": "python",
   "nbconvert_exporter": "python",
   "pygments_lexer": "ipython3",
   "version": "3.12.3"
  }
 },
 "nbformat": 4,
 "nbformat_minor": 5
}
