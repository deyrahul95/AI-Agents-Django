{
 "cells": [
  {
   "cell_type": "code",
   "execution_count": 1,
   "id": "898e8c47",
   "metadata": {},
   "outputs": [],
   "source": [
    "import setup\n",
    "\n",
    "setup.init()"
   ]
  },
  {
   "cell_type": "code",
   "execution_count": 6,
   "id": "7280a3e1",
   "metadata": {},
   "outputs": [
    {
     "data": {
      "text/plain": [
       "[{'id': 1,\n",
       "  'title': 'Welcome',\n",
       "  'content': 'Thank you for learning Django. It is a very good framework to build web site.'},\n",
       " {'id': 2,\n",
       "  'title': 'Hello World',\n",
       "  'content': 'This document are inserted from Jupyter Notebook'}]"
      ]
     },
     "execution_count": 6,
     "metadata": {},
     "output_type": "execute_result"
    }
   ],
   "source": [
    "from ai.tools import get_document, list_documents\n",
    "\n",
    "list_documents.invoke(input={})"
   ]
  },
  {
   "cell_type": "code",
   "execution_count": 9,
   "id": "6a11f960",
   "metadata": {},
   "outputs": [
    {
     "data": {
      "text/plain": [
       "{'id': 2,\n",
       " 'title': 'Hello World',\n",
       " 'content': 'This document are inserted from Jupyter Notebook'}"
      ]
     },
     "execution_count": 9,
     "metadata": {},
     "output_type": "execute_result"
    }
   ],
   "source": [
    "get_document.invoke(input={\"document_id\": 2})"
   ]
  },
  {
   "cell_type": "code",
   "execution_count": null,
   "id": "75b02825",
   "metadata": {},
   "outputs": [],
   "source": []
  }
 ],
 "metadata": {
  "kernelspec": {
   "display_name": "djangoaiagents",
   "language": "python",
   "name": "python3"
  },
  "language_info": {
   "codemirror_mode": {
    "name": "ipython",
    "version": 3
   },
   "file_extension": ".py",
   "mimetype": "text/x-python",
   "name": "python",
   "nbconvert_exporter": "python",
   "pygments_lexer": "ipython3",
   "version": "3.12.3"
  }
 },
 "nbformat": 4,
 "nbformat_minor": 5
}
